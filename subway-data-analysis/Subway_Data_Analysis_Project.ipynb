{
 "cells": [
  {
   "cell_type": "markdown",
   "metadata": {},
   "source": [
    "# Subway Data Analysis\n",
    "\n",
    "## Introducao\n",
    "\n",
    "O sistema de onibus e trens de Nova Iorque - o Metro Transit Authority - fornece seus dados para download atraves de  arquivos csv. Uma das informacoes disponiveis sao os dados das catracas do metro que contam logs semanais de entradas cumulativas e saidas por catraca por estacao de metro em algum intervalo de tempo.\n",
    "\n",
    "\n",
    "Neste projeto iremos utilizar apenas os das catraca disponiveis em: http://web.mta.info/developers/turnstile.html.\n",
    "\n",
    "\n"
   ]
  },
  {
   "cell_type": "markdown",
   "metadata": {},
   "source": [
    "# Sobre este projeto\n",
    "\n",
    "Neste projeto voce ira aplicar todos os conhecimentos adquiridos neste primeiro mes de curso. Iremos praticar tarefas basicas de aquisicao, limpeza de dados e nesse processo iremos descobrir coisas essenciais sobre os dados utilizando o que foi aprendido no curso de estatistica. \n",
    "\n",
    "O objetivo deste projeto eh explorar a relacao entre os dados das catracas do metro de Nova Iorque e o clima no dia da coleta. Para isso, alem dos dados do metro, precisaremos os dados de clima da cidade de Nova Iorque. \n",
    "\n",
    "Os principais pontos que serao verificados neste trabalho:\n",
    "\n",
    "- Coleta de dados da internet\n",
    "- Utilizacao de estatistica para analise de dados\n",
    "- Manipulacao de dados e criacao de graficos simples com o `Pandas`\n",
    "\n",
    "*Como conseguir ajuda*: Sugerimos que tente os seguintes canais, nas seguintes ordens:\n",
    "\n",
    "| Tipo de duvida\\Canais         \t| Google \t| Forum \t| Slack \t| Email \t|\n",
    "|-------------------------------\t|--------\t|-------\t|-------\t|-------\t|\n",
    "| Programacao Pyhon e Pandas    \t| 1      \t| 2     \t| 3     \t|       \t|\n",
    "| Requisitos do projeto         \t|        \t| 1     \t| 2     \t| 3     \t|\n",
    "| Partes especificas do Projeto \t|        \t| 1     \t| 2     \t| 3     \t|\n",
    "\n",
    "Os enderecos dos canais sao:\n",
    "\n",
    "- Forum: https://discussions.udacity.com/c/ndfdsi-project\n",
    "- Slack: [udacity-br.slack.com](https://udacity-br.slack.com/messages/C5MT6E3E1)\n",
    "- Email: data-suporte@udacity.com\n",
    "\n",
    "**Espera-se que o estudante entregue este relatorio com:**\n",
    "\n",
    "- Todos os TODO feitos, pois eles sao essenciais para que o codigo rode corretamente\n",
    "- O arquivo ipynb exportado como html\n",
    "\n",
    "Para entregar este projeto, va a [sala de aula](https://coco.udacity.com/nanodegrees/nd111/locale/pt-br/versions/1.0.0/parts/339726/modules/339733/lessons/340886/project) e submeta o seu `.ipynb` e o html, zipados."
   ]
  },
  {
   "cell_type": "markdown",
   "metadata": {},
   "source": [
    "# Lembretes\n",
    "\n",
    "Antes de comecarmos, alguns lembretes devem ter em mente ao usar os notebooks iPython:\n",
    "\n",
    "- Lembre-se de que voce pode ver do lado esquerdo de uma celula de codigo quando foi executado pela ultima vez se houver um numero dentro das chaves.\n",
    "- Quando voce inicia uma nova sessao do notebook, certifique-se de executar todas as celulas ate o ponto em que voce deixou a ultima vez. Mesmo que a saida ainda seja visivel a partir de quando voce executou as celulas em sua sessao anterior, o kernel comeca em um estado novo, entao voce precisara recarregar os dados, etc. em uma nova sessao.\n",
    "- O ponto anterior eh util para ter em mente se suas respostas nao correspondem ao que eh esperado nos questionarios da aula. Tente recarregar os dados e execute todas as etapas de processamento um a um para garantir que voce esteja trabalhando com as mesmas variaveis e dados que estao em cada fase do questionario."
   ]
  },
  {
   "cell_type": "code",
   "execution_count": 1,
   "metadata": {},
   "outputs": [
    {
     "name": "stdout",
     "output_type": "stream",
     "text": [
      "        Unnamed: 0  UNIT       DATEn     TIMEn  Hour    DESCn  \\\n",
      "0                0  R001  2011-05-01  01:00:00     1  REGULAR   \n",
      "1                1  R001  2011-05-01  05:00:00     5  REGULAR   \n",
      "2                2  R001  2011-05-01  09:00:00     9  REGULAR   \n",
      "3                3  R001  2011-05-01  13:00:00    13  REGULAR   \n",
      "4                4  R001  2011-05-01  17:00:00    17  REGULAR   \n",
      "5                5  R001  2011-05-01  21:00:00    21  REGULAR   \n",
      "6                6  R002  2011-05-01  01:00:00     1  REGULAR   \n",
      "7                7  R002  2011-05-01  05:00:00     5  REGULAR   \n",
      "8                8  R002  2011-05-01  09:00:00     9  REGULAR   \n",
      "9                9  R002  2011-05-01  13:00:00    13  REGULAR   \n",
      "10              10  R002  2011-05-01  17:00:00    17  REGULAR   \n",
      "11              11  R002  2011-05-01  21:00:00    21  REGULAR   \n",
      "12              12  R003  2011-05-01  00:00:00     0  REGULAR   \n",
      "13              13  R003  2011-05-01  04:00:00     4  REGULAR   \n",
      "14              14  R003  2011-05-01  12:00:00    12  REGULAR   \n",
      "15              15  R003  2011-05-01  16:00:00    16  REGULAR   \n",
      "16              16  R003  2011-05-01  20:00:00    20  REGULAR   \n",
      "17              17  R004  2011-05-01  00:00:00     0  REGULAR   \n",
      "18              18  R004  2011-05-01  04:00:00     4  REGULAR   \n",
      "19              19  R004  2011-05-01  08:00:00     8  REGULAR   \n",
      "20              20  R004  2011-05-01  12:00:00    12  REGULAR   \n",
      "21              21  R004  2011-05-01  16:00:00    16  REGULAR   \n",
      "22              22  R004  2011-05-01  20:00:00    20  REGULAR   \n",
      "23              23  R005  2011-05-01  00:00:00     0  REGULAR   \n",
      "24              24  R005  2011-05-01  04:00:00     4  REGULAR   \n",
      "25              25  R005  2011-05-01  12:00:00    12  REGULAR   \n",
      "26              26  R005  2011-05-01  16:00:00    16  REGULAR   \n",
      "27              27  R005  2011-05-01  20:00:00    20  REGULAR   \n",
      "28              28  R006  2011-05-01  00:00:00     0  REGULAR   \n",
      "29              29  R006  2011-05-01  04:00:00     4  REGULAR   \n",
      "...            ...   ...         ...       ...   ...      ...   \n",
      "131921      131921  R552  2011-05-30  17:55:25    17  REGULAR   \n",
      "131922      131922  R552  2011-05-30  18:09:09    18  REGULAR   \n",
      "131923      131923  R552  2011-05-30  18:15:11    18  REGULAR   \n",
      "131924      131924  R552  2011-05-30  18:27:32    18  REGULAR   \n",
      "131925      131925  R552  2011-05-30  18:46:54    18  REGULAR   \n",
      "131926      131926  R552  2011-05-30  19:09:29    19  REGULAR   \n",
      "131927      131927  R552  2011-05-30  19:11:30    19  REGULAR   \n",
      "131928      131928  R552  2011-05-30  19:16:44    19  REGULAR   \n",
      "131929      131929  R552  2011-05-30  19:23:45    19  REGULAR   \n",
      "131930      131930  R552  2011-05-30  19:36:27    19  REGULAR   \n",
      "131931      131931  R552  2011-05-30  19:38:47    19  REGULAR   \n",
      "131932      131932  R552  2011-05-30  19:52:07    19  REGULAR   \n",
      "131933      131933  R552  2011-05-30  20:10:01    20  REGULAR   \n",
      "131934      131934  R552  2011-05-30  20:17:36    20  REGULAR   \n",
      "131935      131935  R552  2011-05-30  20:23:06    20  REGULAR   \n",
      "131936      131936  R552  2011-05-30  20:51:44    20  REGULAR   \n",
      "131937      131937  R552  2011-05-30  20:58:04    20  REGULAR   \n",
      "131938      131938  R552  2011-05-30  20:58:21    20  REGULAR   \n",
      "131939      131939  R552  2011-05-30  21:14:49    21  REGULAR   \n",
      "131940      131940  R552  2011-05-30  21:21:28    21  REGULAR   \n",
      "131941      131941  R552  2011-05-30  22:07:25    22  REGULAR   \n",
      "131942      131942  R552  2011-05-30  22:21:09    22  REGULAR   \n",
      "131943      131943  R552  2011-05-30  22:27:11    22  REGULAR   \n",
      "131944      131944  R552  2011-05-30  22:39:32    22  REGULAR   \n",
      "131945      131945  R552  2011-05-30  22:58:54    22  REGULAR   \n",
      "131946      131946  R552  2011-05-30  23:21:29    23  REGULAR   \n",
      "131947      131947  R552  2011-05-30  23:23:30    23  REGULAR   \n",
      "131948      131948  R552  2011-05-30  23:28:44    23  REGULAR   \n",
      "131949      131949  R552  2011-05-30  23:35:45    23  REGULAR   \n",
      "131950      131950  R552  2011-05-30  23:50:47    23  REGULAR   \n",
      "\n",
      "        ENTRIESn_hourly  EXITSn_hourly  maxpressurei  maxdewpti   ...     \\\n",
      "0                   0.0            0.0         30.31       42.0   ...      \n",
      "1                 217.0          553.0         30.31       42.0   ...      \n",
      "2                 890.0         1262.0         30.31       42.0   ...      \n",
      "3                2451.0         3708.0         30.31       42.0   ...      \n",
      "4                4400.0         2501.0         30.31       42.0   ...      \n",
      "5                3372.0         2122.0         30.31       42.0   ...      \n",
      "6                   0.0            0.0         30.31       42.0   ...      \n",
      "7                  42.0           66.0         30.31       42.0   ...      \n",
      "8                  50.0          125.0         30.31       42.0   ...      \n",
      "9                 316.0          716.0         30.31       42.0   ...      \n",
      "10                633.0          968.0         30.31       42.0   ...      \n",
      "11                639.0          566.0         30.31       42.0   ...      \n",
      "12                  0.0            0.0         30.31       42.0   ...      \n",
      "13                  0.0            0.0         30.31       42.0   ...      \n",
      "14                  0.0            0.0         30.31       42.0   ...      \n",
      "15                  0.0            0.0         30.31       42.0   ...      \n",
      "16                  0.0            0.0         30.31       42.0   ...      \n",
      "17                  0.0            0.0         30.31       42.0   ...      \n",
      "18                  0.0            0.0         30.31       42.0   ...      \n",
      "19                  0.0            0.0         30.31       42.0   ...      \n",
      "20                  0.0            0.0         30.31       42.0   ...      \n",
      "21                  0.0            0.0         30.31       42.0   ...      \n",
      "22                  0.0            0.0         30.31       42.0   ...      \n",
      "23                  0.0            0.0         30.31       42.0   ...      \n",
      "24                  0.0            2.0         30.31       42.0   ...      \n",
      "25                  0.0            2.0         30.31       42.0   ...      \n",
      "26                  1.0            7.0         30.31       42.0   ...      \n",
      "27                  0.0            0.0         30.31       42.0   ...      \n",
      "28                  0.0            0.0         30.31       42.0   ...      \n",
      "29                  0.0            1.0         30.31       42.0   ...      \n",
      "...                 ...            ...           ...        ...   ...      \n",
      "131921              6.0            2.0         30.13       70.0   ...      \n",
      "131922            192.0           55.0         30.13       70.0   ...      \n",
      "131923            350.0           90.0         30.13       70.0   ...      \n",
      "131924             25.0            3.0         30.13       70.0   ...      \n",
      "131925              0.0            0.0         30.13       70.0   ...      \n",
      "131926             30.0            2.0         30.13       70.0   ...      \n",
      "131927            208.0          998.0         30.13       70.0   ...      \n",
      "131928            107.0          199.0         30.13       70.0   ...      \n",
      "131929            139.0           38.0         30.13       70.0   ...      \n",
      "131930            331.0          399.0         30.13       70.0   ...      \n",
      "131931            275.0           71.0         30.13       70.0   ...      \n",
      "131932            133.0           39.0         30.13       70.0   ...      \n",
      "131933              7.0          332.0         30.13       70.0   ...      \n",
      "131934            128.0          447.0         30.13       70.0   ...      \n",
      "131935            142.0          677.0         30.13       70.0   ...      \n",
      "131936              0.0            0.0         30.13       70.0   ...      \n",
      "131937            248.0          257.0         30.13       70.0   ...      \n",
      "131938             62.0           32.0         30.13       70.0   ...      \n",
      "131939            116.0          726.0         30.13       70.0   ...      \n",
      "131940             68.0          115.0         30.13       70.0   ...      \n",
      "131941              7.0            4.0         30.13       70.0   ...      \n",
      "131942             80.0           63.0         30.13       70.0   ...      \n",
      "131943            195.0          207.0         30.13       70.0   ...      \n",
      "131944             18.0            4.0         30.13       70.0   ...      \n",
      "131945              0.0            0.0         30.13       70.0   ...      \n",
      "131946             19.0           14.0         30.13       70.0   ...      \n",
      "131947            158.0         1022.0         30.13       70.0   ...      \n",
      "131948             54.0          275.0         30.13       70.0   ...      \n",
      "131949             59.0           46.0         30.13       70.0   ...      \n",
      "131950            123.0          108.0         30.13       70.0   ...      \n",
      "\n",
      "        meandewpti  meanpressurei  fog  rain  meanwindspdi  mintempi  \\\n",
      "0             39.0          30.27  0.0   0.0           5.0      50.0   \n",
      "1             39.0          30.27  0.0   0.0           5.0      50.0   \n",
      "2             39.0          30.27  0.0   0.0           5.0      50.0   \n",
      "3             39.0          30.27  0.0   0.0           5.0      50.0   \n",
      "4             39.0          30.27  0.0   0.0           5.0      50.0   \n",
      "5             39.0          30.27  0.0   0.0           5.0      50.0   \n",
      "6             39.0          30.27  0.0   0.0           5.0      50.0   \n",
      "7             39.0          30.27  0.0   0.0           5.0      50.0   \n",
      "8             39.0          30.27  0.0   0.0           5.0      50.0   \n",
      "9             39.0          30.27  0.0   0.0           5.0      50.0   \n",
      "10            39.0          30.27  0.0   0.0           5.0      50.0   \n",
      "11            39.0          30.27  0.0   0.0           5.0      50.0   \n",
      "12            39.0          30.27  0.0   0.0           5.0      50.0   \n",
      "13            39.0          30.27  0.0   0.0           5.0      50.0   \n",
      "14            39.0          30.27  0.0   0.0           5.0      50.0   \n",
      "15            39.0          30.27  0.0   0.0           5.0      50.0   \n",
      "16            39.0          30.27  0.0   0.0           5.0      50.0   \n",
      "17            39.0          30.27  0.0   0.0           5.0      50.0   \n",
      "18            39.0          30.27  0.0   0.0           5.0      50.0   \n",
      "19            39.0          30.27  0.0   0.0           5.0      50.0   \n",
      "20            39.0          30.27  0.0   0.0           5.0      50.0   \n",
      "21            39.0          30.27  0.0   0.0           5.0      50.0   \n",
      "22            39.0          30.27  0.0   0.0           5.0      50.0   \n",
      "23            39.0          30.27  0.0   0.0           5.0      50.0   \n",
      "24            39.0          30.27  0.0   0.0           5.0      50.0   \n",
      "25            39.0          30.27  0.0   0.0           5.0      50.0   \n",
      "26            39.0          30.27  0.0   0.0           5.0      50.0   \n",
      "27            39.0          30.27  0.0   0.0           5.0      50.0   \n",
      "28            39.0          30.27  0.0   0.0           5.0      50.0   \n",
      "29            39.0          30.27  0.0   0.0           5.0      50.0   \n",
      "...            ...            ...  ...   ...           ...       ...   \n",
      "131921        68.0          30.08  0.0   1.0           5.0      70.0   \n",
      "131922        68.0          30.08  0.0   1.0           5.0      70.0   \n",
      "131923        68.0          30.08  0.0   1.0           5.0      70.0   \n",
      "131924        68.0          30.08  0.0   1.0           5.0      70.0   \n",
      "131925        68.0          30.08  0.0   1.0           5.0      70.0   \n",
      "131926        68.0          30.08  0.0   1.0           5.0      70.0   \n",
      "131927        68.0          30.08  0.0   1.0           5.0      70.0   \n",
      "131928        68.0          30.08  0.0   1.0           5.0      70.0   \n",
      "131929        68.0          30.08  0.0   1.0           5.0      70.0   \n",
      "131930        68.0          30.08  0.0   1.0           5.0      70.0   \n",
      "131931        68.0          30.08  0.0   1.0           5.0      70.0   \n",
      "131932        68.0          30.08  0.0   1.0           5.0      70.0   \n",
      "131933        68.0          30.08  0.0   1.0           5.0      70.0   \n",
      "131934        68.0          30.08  0.0   1.0           5.0      70.0   \n",
      "131935        68.0          30.08  0.0   1.0           5.0      70.0   \n",
      "131936        68.0          30.08  0.0   1.0           5.0      70.0   \n",
      "131937        68.0          30.08  0.0   1.0           5.0      70.0   \n",
      "131938        68.0          30.08  0.0   1.0           5.0      70.0   \n",
      "131939        68.0          30.08  0.0   1.0           5.0      70.0   \n",
      "131940        68.0          30.08  0.0   1.0           5.0      70.0   \n",
      "131941        68.0          30.08  0.0   1.0           5.0      70.0   \n",
      "131942        68.0          30.08  0.0   1.0           5.0      70.0   \n",
      "131943        68.0          30.08  0.0   1.0           5.0      70.0   \n",
      "131944        68.0          30.08  0.0   1.0           5.0      70.0   \n",
      "131945        68.0          30.08  0.0   1.0           5.0      70.0   \n",
      "131946        68.0          30.08  0.0   1.0           5.0      70.0   \n",
      "131947        68.0          30.08  0.0   1.0           5.0      70.0   \n",
      "131948        68.0          30.08  0.0   1.0           5.0      70.0   \n",
      "131949        68.0          30.08  0.0   1.0           5.0      70.0   \n",
      "131950        68.0          30.08  0.0   1.0           5.0      70.0   \n",
      "\n",
      "        meantempi  maxtempi  precipi  thunder  \n",
      "0            60.0      69.0     0.00      0.0  \n",
      "1            60.0      69.0     0.00      0.0  \n",
      "2            60.0      69.0     0.00      0.0  \n",
      "3            60.0      69.0     0.00      0.0  \n",
      "4            60.0      69.0     0.00      0.0  \n",
      "5            60.0      69.0     0.00      0.0  \n",
      "6            60.0      69.0     0.00      0.0  \n",
      "7            60.0      69.0     0.00      0.0  \n",
      "8            60.0      69.0     0.00      0.0  \n",
      "9            60.0      69.0     0.00      0.0  \n",
      "10           60.0      69.0     0.00      0.0  \n",
      "11           60.0      69.0     0.00      0.0  \n",
      "12           60.0      69.0     0.00      0.0  \n",
      "13           60.0      69.0     0.00      0.0  \n",
      "14           60.0      69.0     0.00      0.0  \n",
      "15           60.0      69.0     0.00      0.0  \n",
      "16           60.0      69.0     0.00      0.0  \n",
      "17           60.0      69.0     0.00      0.0  \n",
      "18           60.0      69.0     0.00      0.0  \n",
      "19           60.0      69.0     0.00      0.0  \n",
      "20           60.0      69.0     0.00      0.0  \n",
      "21           60.0      69.0     0.00      0.0  \n",
      "22           60.0      69.0     0.00      0.0  \n",
      "23           60.0      69.0     0.00      0.0  \n",
      "24           60.0      69.0     0.00      0.0  \n",
      "25           60.0      69.0     0.00      0.0  \n",
      "26           60.0      69.0     0.00      0.0  \n",
      "27           60.0      69.0     0.00      0.0  \n",
      "28           60.0      69.0     0.00      0.0  \n",
      "29           60.0      69.0     0.00      0.0  \n",
      "...           ...       ...      ...      ...  \n",
      "131921       78.0      86.0     0.29      0.0  \n",
      "131922       78.0      86.0     0.29      0.0  \n",
      "131923       78.0      86.0     0.29      0.0  \n",
      "131924       78.0      86.0     0.29      0.0  \n",
      "131925       78.0      86.0     0.29      0.0  \n",
      "131926       78.0      86.0     0.29      0.0  \n",
      "131927       78.0      86.0     0.29      0.0  \n",
      "131928       78.0      86.0     0.29      0.0  \n",
      "131929       78.0      86.0     0.29      0.0  \n",
      "131930       78.0      86.0     0.29      0.0  \n",
      "131931       78.0      86.0     0.29      0.0  \n",
      "131932       78.0      86.0     0.29      0.0  \n",
      "131933       78.0      86.0     0.29      0.0  \n",
      "131934       78.0      86.0     0.29      0.0  \n",
      "131935       78.0      86.0     0.29      0.0  \n",
      "131936       78.0      86.0     0.29      0.0  \n",
      "131937       78.0      86.0     0.29      0.0  \n",
      "131938       78.0      86.0     0.29      0.0  \n",
      "131939       78.0      86.0     0.29      0.0  \n",
      "131940       78.0      86.0     0.29      0.0  \n",
      "131941       78.0      86.0     0.29      0.0  \n",
      "131942       78.0      86.0     0.29      0.0  \n",
      "131943       78.0      86.0     0.29      0.0  \n",
      "131944       78.0      86.0     0.29      0.0  \n",
      "131945       78.0      86.0     0.29      0.0  \n",
      "131946       78.0      86.0     0.29      0.0  \n",
      "131947       78.0      86.0     0.29      0.0  \n",
      "131948       78.0      86.0     0.29      0.0  \n",
      "131949       78.0      86.0     0.29      0.0  \n",
      "131950       78.0      86.0     0.29      0.0  \n",
      "\n",
      "[131951 rows x 22 columns]\n"
     ]
    }
   ],
   "source": [
    "import pandas as pd\n",
    "\n",
    "# Read the Udacity site CSV file and put it into a Pandas DataFrame\n",
    "turnstile = pd.read_csv('turnstile_data_master_with_weather.csv', sep=\",\")\n",
    "\n",
    "print(turnstile)\n"
   ]
  },
  {
   "cell_type": "markdown",
   "metadata": {},
   "source": [
    "## Secao 1 - Coleta de Dados\n",
    "\n",
    "### *Exercicio 1.1*\n",
    "\n",
    "Maos a obra!! Agora eh sua vez de coletar os dados. Escreva abaixo um codigo python que acesse o link http://web.mta.info/developers/turnstile.html e baixe os arquivos do mes de junho de 2017. O arquivo devera ser salvo com o nome turnstile_100617.txt onde 10/06/17 eh a data do arquivo.\n",
    "\n",
    "Abaixo seguem alguns comandos que poderao te ajudar:\n",
    "\n",
    "Utilize a biblioteca **urllib** para abrir e resgatar uma pagina da web. Utilize o comando abaixo onde **url** sera o caminho da pagina da web onde se encontra o arquivo:\n",
    "\n",
    "```python\n",
    "u = urllib.urlopen(url)\n",
    "html = u.read()\n",
    "```\n",
    "\n",
    "Utilize a biblioteca **BeautifulSoup** para procurar na pagina pelo link do arquivo que deseja baixar. Utilize o comando abaixo para criar o seu objeto *soup* e procurar por todas as tags 'a'no documento:\n",
    " \n",
    " \n",
    "```python\n",
    "soup = BeautifulSoup(html, \"html.parser\")\n",
    "links = soup.find_all('a')\n",
    "```\n",
    "\n",
    "Uma dica para baixar apenas os arquivos do mes de junho eh verificar a data no nome do arquivo. Por exemplo, para baixar o arquivo do dia 17/06/2017 verifique se o link termina com *\"turnstile_170610.txt\"*. Se nao fizer isso voce baixara todos os arquivos da pagina. Para fazer isso utilize o comando conforme abaixo:\n",
    "\n",
    "```python\n",
    "if '1706' in link.get('href'):\n",
    "```\n",
    "\n",
    "E a dica final eh utilizar o comando abaixo para fazer o download do arquivo txt:\n",
    "\n",
    "```python\n",
    "urllib.urlretrieve(link_do_arquivo, filename)\n",
    "```\n",
    "\n",
    "Lembre-se, primeiro, carregue todos os pacotes e funces que voce estara usando em sua analise."
   ]
  },
  {
   "cell_type": "code",
   "execution_count": 2,
   "metadata": {},
   "outputs": [
    {
     "name": "stdout",
     "output_type": "stream",
     "text": [
      "data/nyct/turnstile/turnstile_170624.txt\n",
      "http://web.mta.info/developers/data/nyct/turnstile/turnstile_170624.txt\n",
      "turnstile_170624.txt\n",
      "data/nyct/turnstile/turnstile_170617.txt\n",
      "http://web.mta.info/developers/data/nyct/turnstile/turnstile_170617.txt\n",
      "turnstile_170617.txt\n",
      "data/nyct/turnstile/turnstile_170610.txt\n",
      "http://web.mta.info/developers/data/nyct/turnstile/turnstile_170610.txt\n",
      "turnstile_170610.txt\n",
      "data/nyct/turnstile/turnstile_170603.txt\n",
      "http://web.mta.info/developers/data/nyct/turnstile/turnstile_170603.txt\n",
      "turnstile_170603.txt\n"
     ]
    }
   ],
   "source": [
    "import urllib\n",
    "from bs4 import BeautifulSoup\n",
    "\n",
    "url=\"http://web.mta.info/developers/turnstile.html\"\n",
    "\n",
    "with urllib.request.urlopen(url) as page:\n",
    "    html = page.read()\n",
    "#print(html)\n",
    "\n",
    "soup = BeautifulSoup(html, \"html.parser\")\n",
    "links = soup.find_all('a', href = True) # get all <a> elements that have href attribute\n",
    "#print(links)\n",
    "\n",
    "base_url = \"http://web.mta.info/developers/\"\n",
    "for link in links:\n",
    "    if \"1706\" in link['href']:\n",
    "        print(link['href']) \n",
    "        \n",
    "        link_do_arquivo = base_url + link['href'] #http://web.mta.info/developers/data/nyct/turnstile/turnstile_150502.txt\n",
    "        print(link_do_arquivo)\n",
    "        \n",
    "        filename = link['href'].replace(\"data/nyct/turnstile/\",\"\")\n",
    "        print(filename)\n",
    "        \n",
    "        urllib.request.urlretrieve(link_do_arquivo, filename) # download and save the files of June 2017\n",
    "\n"
   ]
  },
  {
   "cell_type": "markdown",
   "metadata": {},
   "source": [
    "### *Exercicio 1.2*\n",
    "\n",
    "Escreva uma funcao que pegue a lista de nomes dos arquivos que voce baixou no exercicio 1.1 e consolide-os em um unico arquivo. Deve existir apenas uma linha de cabecalho no arquivo de saida. \n",
    "\n",
    "Por exemplo, se o arquivo_1 tiver:\n",
    "linha 1...\n",
    "linha 2...\n",
    "\n",
    "e o outro arquivo, arquivo_2 tiver:\n",
    "linha 3...\n",
    "linha 4...\n",
    "linha 5...\n",
    "\n",
    "Devemos combinar o arquivo_1 com arquivo_2 em um arquivo mestre conforme abaixo:\n",
    "\n",
    "'C/A, UNIT, SCP, DATEn, TIMEn, DESCn, ENTRIESn, EXITSn'\n",
    "linha 1...\n",
    "linha 2...\n",
    "linha 3...\n",
    "linha 4...\n",
    "linha 5...\n"
   ]
  },
  {
   "cell_type": "code",
   "execution_count": 3,
   "metadata": {
    "collapsed": true
   },
   "outputs": [],
   "source": [
    "# Accepts filename list and combines the contents into a single output file\n",
    "def create_master_turnstile_file(filenames, output_file):\n",
    "    with open(output_file, 'w') as master_file:\n",
    "        master_file.write('C/A,UNIT,SCP,STATION,LINENAME,DIVISION,DATEn,TIMEn,DESCn,ENTRIESn,EXITSn\\n')\n",
    "        \n",
    "        for filename in filenames:\n",
    "            master_file.write(''.join(open(filename).readlines()[1:])) # readlines, but skip the first line (header) of each file in filenames\n",
    "        \n",
    "        master_file.close() # closes the master_file\n",
    "        print(\"Done\")"
   ]
  },
  {
   "cell_type": "code",
   "execution_count": 4,
   "metadata": {},
   "outputs": [
    {
     "name": "stdout",
     "output_type": "stream",
     "text": [
      "Done\n"
     ]
    }
   ],
   "source": [
    "files = ['turnstile_170603.txt','turnstile_170610.txt','turnstile_170617.txt','turnstile_170624.txt'] # Read the june 17 files\n",
    "create_master_turnstile_file(files,'turnstile_master.txt')"
   ]
  },
  {
   "cell_type": "markdown",
   "metadata": {},
   "source": [
    "### *Exercicio 1.3*\n",
    "\n",
    "Neste exercicio, escreva um funcao que leia o master_file criado no exercicio anterior e carregue-o em um pandas dataframe. Esta funcao deve filtrar para que o dataframe possua apenas linhas onde a coluna \"DESCn\" possua o valor \"Regular\".\n",
    "\n",
    "Por exemplo, se o data frame do pandas estiver conforme abaixo:\n",
    "    \n",
    "    ,C/A,UNIT,SCP,DATEn,TIMEn,DESCn,ENTRIESn,EXITSn\n",
    "    0,A002,R051,02-00-00,05-01-11,00:00:00,REGULAR,3144312,1088151\n",
    "    1,A002,R051,02-00-00,05-01-11,04:00:00,DOOR,3144335,1088159\n",
    "    2,A002,R051,02-00-00,05-01-11,08:00:00,REGULAR,3144353,1088177\n",
    "    3,A002,R051,02-00-00,05-01-11,12:00:00,DOOR,3144424,1088231\n",
    "\n",
    "O dataframe devera ficar conforme abaixo depois de filtrar apenas as linhas onde a coluna DESCn possua o valor REGULAR:\n",
    "\n",
    "    0,A002,R051,02-00-00,05-01-11,00:00:00,REGULAR,3144312,1088151\n",
    "    2,A002,R051,02-00-00,05-01-11,08:00:00,REGULAR,3144353,1088177\n"
   ]
  },
  {
   "cell_type": "code",
   "execution_count": 5,
   "metadata": {
    "collapsed": true
   },
   "outputs": [],
   "source": [
    "import pandas as pd\n",
    "\n",
    "def filter_by_regular(filename):\n",
    "    \n",
    "    turnstile_data = pd.read_csv(filename) #read in the csv, doing this first avoids problems with creating the DataFrame\n",
    "    turnstile_data = pd.DataFrame(turnstile_data) #create the DataFrame\n",
    "    \n",
    "    #print(turnstile_data.duplicated().sum()) # was checked if there was any duplicatedline, but the result was 0\n",
    "    # if this number was != 0, then it was necessary wrangling this data, for example droping the duplicae lines\n",
    "    \n",
    "    turnstile_data = turnstile_data[turnstile_data.DESCn == 'REGULAR'] #Filter the DataFrame where DESCn value is equal to REGULAR\n",
    "    \n",
    "    return turnstile_data"
   ]
  },
  {
   "cell_type": "code",
   "execution_count": 6,
   "metadata": {},
   "outputs": [
    {
     "name": "stdout",
     "output_type": "stream",
     "text": [
      "    C/A  UNIT       SCP STATION LINENAME DIVISION       DATEn     TIMEn  \\\n",
      "0  A002  R051  02-00-00   59 ST  NQR456W      BMT  05/27/2017  00:00:00   \n",
      "1  A002  R051  02-00-00   59 ST  NQR456W      BMT  05/27/2017  04:00:00   \n",
      "2  A002  R051  02-00-00   59 ST  NQR456W      BMT  05/27/2017  08:00:00   \n",
      "3  A002  R051  02-00-00   59 ST  NQR456W      BMT  05/27/2017  12:00:00   \n",
      "4  A002  R051  02-00-00   59 ST  NQR456W      BMT  05/27/2017  16:00:00   \n",
      "5  A002  R051  02-00-00   59 ST  NQR456W      BMT  05/27/2017  20:00:00   \n",
      "6  A002  R051  02-00-00   59 ST  NQR456W      BMT  05/28/2017  00:00:00   \n",
      "7  A002  R051  02-00-00   59 ST  NQR456W      BMT  05/28/2017  04:00:00   \n",
      "8  A002  R051  02-00-00   59 ST  NQR456W      BMT  05/28/2017  08:00:00   \n",
      "9  A002  R051  02-00-00   59 ST  NQR456W      BMT  05/28/2017  12:00:00   \n",
      "\n",
      "     DESCn  ENTRIESn   EXITSn  \n",
      "0  REGULAR   6195217  2098317  \n",
      "1  REGULAR   6195240  2098318  \n",
      "2  REGULAR   6195256  2098347  \n",
      "3  REGULAR   6195346  2098432  \n",
      "4  REGULAR   6195518  2098491  \n",
      "5  REGULAR   6195765  2098537  \n",
      "6  REGULAR   6195898  2098559  \n",
      "7  REGULAR   6195914  2098562  \n",
      "8  REGULAR   6195930  2098581  \n",
      "9  REGULAR   6196024  2098646  \n"
     ]
    }
   ],
   "source": [
    "frame = filter_by_regular('turnstile_master.txt')\n",
    "print(frame.head(n=10))"
   ]
  },
  {
   "cell_type": "markdown",
   "metadata": {},
   "source": [
    "### *Exercicio 1.4*\n",
    "\n",
    "\n",
    "Os dados do metro de NY possui dados cumulativos de entradas e saidas por linha. Assuma que voce possui um dataframe chamado df que contem apenas linhas para uma catraca em particular (unico SCP, C/A, e UNIT). A funco abaixo deve alterar essas entradas cumulativas para a contagem de entradas desde a ultima leitura (entradas desde a ultima linha do dataframe).\n",
    "\n",
    "Mais especificamente, voce devera fazer duas coisas:\n",
    "\n",
    "1 - Criar uma nova coluna chamada ENTRIESn_hourly\n",
    "2 - Inserir nessa coluna a diferenca enre ENTRIESn da coluna atual e a da coluna anterior. Se a linha possuir alguma NAN, preencha/substitua por 1.\n",
    "\n",
    "Dica: as funcoes do pandas shift() e fillna() pode ser uteis nesse exercicio.\n",
    "\n",
    "Abaixo tem um exemplo de como seu dataframe deve ficar ao final desse exercicio:\n",
    "\n",
    "        C/A  UNIT       SCP     DATEn     TIMEn    DESCn  ENTRIESn    EXITSn  ENTRIESn_hourly\n",
    "    0     A002  R051  02-00-00  05-01-11  00:00:00  REGULAR   3144312   1088151                1\n",
    "    1     A002  R051  02-00-00  05-01-11  04:00:00  REGULAR   3144335   1088159               23\n",
    "    2     A002  R051  02-00-00  05-01-11  08:00:00  REGULAR   3144353   1088177               18\n",
    "    3     A002  R051  02-00-00  05-01-11  12:00:00  REGULAR   3144424   1088231               71\n",
    "    4     A002  R051  02-00-00  05-01-11  16:00:00  REGULAR   3144594   1088275              170\n",
    "    5     A002  R051  02-00-00  05-01-11  20:00:00  REGULAR   3144808   1088317              214\n",
    "    6     A002  R051  02-00-00  05-02-11  00:00:00  REGULAR   3144895   1088328               87\n",
    "    7     A002  R051  02-00-00  05-02-11  04:00:00  REGULAR   3144905   1088331               10\n",
    "    8     A002  R051  02-00-00  05-02-11  08:00:00  REGULAR   3144941   1088420               36\n",
    "    9     A002  R051  02-00-00  05-02-11  12:00:00  REGULAR   3145094   1088753              153\n",
    "    10    A002  R051  02-00-00  05-02-11  16:00:00  REGULAR   3145337   1088823              243"
   ]
  },
  {
   "cell_type": "code",
   "execution_count": 7,
   "metadata": {
    "collapsed": true
   },
   "outputs": [],
   "source": [
    "import pandas\n",
    "\n",
    "def get_hourly_entries(df):\n",
    "    \n",
    "    df['ENTRIESn_hourly'] = df.ENTRIESn.diff(1) # Create the column and assign the difference between ENTRIESn rows values\n",
    "    #print(df.head(n=10))\n",
    "    df.ENTRIESn_hourly.fillna(1, inplace = True) # Fill NaN with value 1\n",
    "    \n",
    "    return df"
   ]
  },
  {
   "cell_type": "code",
   "execution_count": 8,
   "metadata": {},
   "outputs": [
    {
     "name": "stdout",
     "output_type": "stream",
     "text": [
      "    C/A  UNIT       SCP STATION LINENAME DIVISION       DATEn     TIMEn  \\\n",
      "0  A002  R051  02-00-00   59 ST  NQR456W      BMT  05/27/2017  00:00:00   \n",
      "1  A002  R051  02-00-00   59 ST  NQR456W      BMT  05/27/2017  04:00:00   \n",
      "2  A002  R051  02-00-00   59 ST  NQR456W      BMT  05/27/2017  08:00:00   \n",
      "3  A002  R051  02-00-00   59 ST  NQR456W      BMT  05/27/2017  12:00:00   \n",
      "4  A002  R051  02-00-00   59 ST  NQR456W      BMT  05/27/2017  16:00:00   \n",
      "5  A002  R051  02-00-00   59 ST  NQR456W      BMT  05/27/2017  20:00:00   \n",
      "6  A002  R051  02-00-00   59 ST  NQR456W      BMT  05/28/2017  00:00:00   \n",
      "7  A002  R051  02-00-00   59 ST  NQR456W      BMT  05/28/2017  04:00:00   \n",
      "8  A002  R051  02-00-00   59 ST  NQR456W      BMT  05/28/2017  08:00:00   \n",
      "9  A002  R051  02-00-00   59 ST  NQR456W      BMT  05/28/2017  12:00:00   \n",
      "\n",
      "     DESCn  ENTRIESn   EXITSn  ENTRIESn_hourly  \n",
      "0  REGULAR   6195217  2098317              1.0  \n",
      "1  REGULAR   6195240  2098318             23.0  \n",
      "2  REGULAR   6195256  2098347             16.0  \n",
      "3  REGULAR   6195346  2098432             90.0  \n",
      "4  REGULAR   6195518  2098491            172.0  \n",
      "5  REGULAR   6195765  2098537            247.0  \n",
      "6  REGULAR   6195898  2098559            133.0  \n",
      "7  REGULAR   6195914  2098562             16.0  \n",
      "8  REGULAR   6195930  2098581             16.0  \n",
      "9  REGULAR   6196024  2098646             94.0  \n"
     ]
    }
   ],
   "source": [
    "df = get_hourly_entries(frame)\n",
    "print(df.head(n=10))"
   ]
  },
  {
   "cell_type": "markdown",
   "metadata": {},
   "source": [
    "### *Exercicio 1.5*\n",
    "\n",
    "Faca o mesmo do exercicio anterior mas agora considerando as saidas, coluna EXITSn.\n",
    "Para isso crie uma coluna chamada de EXITSn_hourly e insira a diferenca entre a coluna EXITSn da linha atual versus a linha anterior. Se tiver algum NaN, preencha/substitua por 0.\n",
    "\n"
   ]
  },
  {
   "cell_type": "code",
   "execution_count": 9,
   "metadata": {
    "collapsed": true
   },
   "outputs": [],
   "source": [
    "import pandas\n",
    "\n",
    "def get_hourly_exits(df):\n",
    "    \n",
    "    df['EXITSn_hourly'] = df.EXITSn.diff(1) # Create the column and assign the difference between EXITSn rows values\n",
    "    df.EXITSn_hourly.fillna(0,inplace = True) # Fill NaN with value 0\n",
    "    \n",
    "    return df"
   ]
  },
  {
   "cell_type": "code",
   "execution_count": 10,
   "metadata": {},
   "outputs": [
    {
     "name": "stdout",
     "output_type": "stream",
     "text": [
      "    C/A  UNIT       SCP STATION LINENAME DIVISION       DATEn     TIMEn  \\\n",
      "0  A002  R051  02-00-00   59 ST  NQR456W      BMT  05/27/2017  00:00:00   \n",
      "1  A002  R051  02-00-00   59 ST  NQR456W      BMT  05/27/2017  04:00:00   \n",
      "2  A002  R051  02-00-00   59 ST  NQR456W      BMT  05/27/2017  08:00:00   \n",
      "3  A002  R051  02-00-00   59 ST  NQR456W      BMT  05/27/2017  12:00:00   \n",
      "4  A002  R051  02-00-00   59 ST  NQR456W      BMT  05/27/2017  16:00:00   \n",
      "5  A002  R051  02-00-00   59 ST  NQR456W      BMT  05/27/2017  20:00:00   \n",
      "6  A002  R051  02-00-00   59 ST  NQR456W      BMT  05/28/2017  00:00:00   \n",
      "7  A002  R051  02-00-00   59 ST  NQR456W      BMT  05/28/2017  04:00:00   \n",
      "8  A002  R051  02-00-00   59 ST  NQR456W      BMT  05/28/2017  08:00:00   \n",
      "9  A002  R051  02-00-00   59 ST  NQR456W      BMT  05/28/2017  12:00:00   \n",
      "\n",
      "     DESCn  ENTRIESn   EXITSn  ENTRIESn_hourly  EXITSn_hourly  \n",
      "0  REGULAR   6195217  2098317              1.0            0.0  \n",
      "1  REGULAR   6195240  2098318             23.0            1.0  \n",
      "2  REGULAR   6195256  2098347             16.0           29.0  \n",
      "3  REGULAR   6195346  2098432             90.0           85.0  \n",
      "4  REGULAR   6195518  2098491            172.0           59.0  \n",
      "5  REGULAR   6195765  2098537            247.0           46.0  \n",
      "6  REGULAR   6195898  2098559            133.0           22.0  \n",
      "7  REGULAR   6195914  2098562             16.0            3.0  \n",
      "8  REGULAR   6195930  2098581             16.0           19.0  \n",
      "9  REGULAR   6196024  2098646             94.0           65.0  \n"
     ]
    }
   ],
   "source": [
    "df = get_hourly_exits(frame)\n",
    "print(df.head(n=10))"
   ]
  },
  {
   "cell_type": "markdown",
   "metadata": {},
   "source": [
    "### *Exercicio 1.6*\n",
    "\n",
    "Dado uma variavel de entrada que representa o tempo no formato de:\n",
    "- \"00:00:00\" (hora: minutos: segundos)\n",
    "\n",
    "Escreva uma funcao para extrair a parte da hora do tempo variavel de entrada e devolva-o como um numero inteiro. Por exemplo:\n",
    "\n",
    "- 1) se a hora for 00, seu codigo deve retornar 0\n",
    "- 2) se a hora for 01, seu codigo deve retornar 1\n",
    "- 3) se a hora for 21, seu codigo deve retornar 21\n",
    "\n",
    "Por favor, devolva a hora como um numero inteiro.\n"
   ]
  },
  {
   "cell_type": "code",
   "execution_count": 11,
   "metadata": {
    "collapsed": true
   },
   "outputs": [],
   "source": [
    "def time_to_hour(time):\n",
    "    \n",
    "    hour = int(time[:2])\n",
    "    return hour"
   ]
  },
  {
   "cell_type": "code",
   "execution_count": 12,
   "metadata": {},
   "outputs": [
    {
     "name": "stdout",
     "output_type": "stream",
     "text": [
      "2\n",
      "7\n",
      "24\n"
     ]
    }
   ],
   "source": [
    "hour = time_to_hour(\"02:00:00\")\n",
    "print(hour)\n",
    "hour = time_to_hour(\"07:00:00\")\n",
    "print(hour)\n",
    "hour = time_to_hour(\"24:00:00\")\n",
    "print(hour)"
   ]
  },
  {
   "cell_type": "markdown",
   "metadata": {},
   "source": [
    "## Exercicio 2 - Analise dos dados\n",
    "\n",
    "### *Exercicio 2.1*\n",
    "\n",
    "Para verificar a relacao entre o movimento do metro e o clima, precisaremos complementar os dados do arquivo ja baixado com os dados do clima.\n",
    "Nos complementamos para voce este arquivo com os dados de clima de Nova Iorque e disponibilizamos na area de materiais do projeto. Voce pode acessa-lo pelo link: https://s3.amazonaws.com/content.udacity-data.com/courses/ud359/turnstile_data_master_with_weather.csv\n",
    "\n",
    "Agora que temos nossos dados em um arquivo csv, escreva um codigo python que leia este arquivo e salve-o em um data frame do pandas. \n",
    "\n",
    "Dica: \n",
    "\n",
    "Utilize o comando abaixo para ler o arquivo:\n",
    "\n",
    "```python\n",
    "pd.read_csv('output_list.txt', sep=\",\")\n",
    "```\n",
    "\n"
   ]
  },
  {
   "cell_type": "code",
   "execution_count": 13,
   "metadata": {},
   "outputs": [
    {
     "name": "stdout",
     "output_type": "stream",
     "text": [
      "        Unnamed: 0  UNIT       DATEn     TIMEn  Hour    DESCn  \\\n",
      "0                0  R001  2011-05-01  01:00:00     1  REGULAR   \n",
      "1                1  R001  2011-05-01  05:00:00     5  REGULAR   \n",
      "2                2  R001  2011-05-01  09:00:00     9  REGULAR   \n",
      "3                3  R001  2011-05-01  13:00:00    13  REGULAR   \n",
      "4                4  R001  2011-05-01  17:00:00    17  REGULAR   \n",
      "5                5  R001  2011-05-01  21:00:00    21  REGULAR   \n",
      "6                6  R002  2011-05-01  01:00:00     1  REGULAR   \n",
      "7                7  R002  2011-05-01  05:00:00     5  REGULAR   \n",
      "8                8  R002  2011-05-01  09:00:00     9  REGULAR   \n",
      "9                9  R002  2011-05-01  13:00:00    13  REGULAR   \n",
      "10              10  R002  2011-05-01  17:00:00    17  REGULAR   \n",
      "11              11  R002  2011-05-01  21:00:00    21  REGULAR   \n",
      "12              12  R003  2011-05-01  00:00:00     0  REGULAR   \n",
      "13              13  R003  2011-05-01  04:00:00     4  REGULAR   \n",
      "14              14  R003  2011-05-01  12:00:00    12  REGULAR   \n",
      "15              15  R003  2011-05-01  16:00:00    16  REGULAR   \n",
      "16              16  R003  2011-05-01  20:00:00    20  REGULAR   \n",
      "17              17  R004  2011-05-01  00:00:00     0  REGULAR   \n",
      "18              18  R004  2011-05-01  04:00:00     4  REGULAR   \n",
      "19              19  R004  2011-05-01  08:00:00     8  REGULAR   \n",
      "20              20  R004  2011-05-01  12:00:00    12  REGULAR   \n",
      "21              21  R004  2011-05-01  16:00:00    16  REGULAR   \n",
      "22              22  R004  2011-05-01  20:00:00    20  REGULAR   \n",
      "23              23  R005  2011-05-01  00:00:00     0  REGULAR   \n",
      "24              24  R005  2011-05-01  04:00:00     4  REGULAR   \n",
      "25              25  R005  2011-05-01  12:00:00    12  REGULAR   \n",
      "26              26  R005  2011-05-01  16:00:00    16  REGULAR   \n",
      "27              27  R005  2011-05-01  20:00:00    20  REGULAR   \n",
      "28              28  R006  2011-05-01  00:00:00     0  REGULAR   \n",
      "29              29  R006  2011-05-01  04:00:00     4  REGULAR   \n",
      "...            ...   ...         ...       ...   ...      ...   \n",
      "131921      131921  R552  2011-05-30  17:55:25    17  REGULAR   \n",
      "131922      131922  R552  2011-05-30  18:09:09    18  REGULAR   \n",
      "131923      131923  R552  2011-05-30  18:15:11    18  REGULAR   \n",
      "131924      131924  R552  2011-05-30  18:27:32    18  REGULAR   \n",
      "131925      131925  R552  2011-05-30  18:46:54    18  REGULAR   \n",
      "131926      131926  R552  2011-05-30  19:09:29    19  REGULAR   \n",
      "131927      131927  R552  2011-05-30  19:11:30    19  REGULAR   \n",
      "131928      131928  R552  2011-05-30  19:16:44    19  REGULAR   \n",
      "131929      131929  R552  2011-05-30  19:23:45    19  REGULAR   \n",
      "131930      131930  R552  2011-05-30  19:36:27    19  REGULAR   \n",
      "131931      131931  R552  2011-05-30  19:38:47    19  REGULAR   \n",
      "131932      131932  R552  2011-05-30  19:52:07    19  REGULAR   \n",
      "131933      131933  R552  2011-05-30  20:10:01    20  REGULAR   \n",
      "131934      131934  R552  2011-05-30  20:17:36    20  REGULAR   \n",
      "131935      131935  R552  2011-05-30  20:23:06    20  REGULAR   \n",
      "131936      131936  R552  2011-05-30  20:51:44    20  REGULAR   \n",
      "131937      131937  R552  2011-05-30  20:58:04    20  REGULAR   \n",
      "131938      131938  R552  2011-05-30  20:58:21    20  REGULAR   \n",
      "131939      131939  R552  2011-05-30  21:14:49    21  REGULAR   \n",
      "131940      131940  R552  2011-05-30  21:21:28    21  REGULAR   \n",
      "131941      131941  R552  2011-05-30  22:07:25    22  REGULAR   \n",
      "131942      131942  R552  2011-05-30  22:21:09    22  REGULAR   \n",
      "131943      131943  R552  2011-05-30  22:27:11    22  REGULAR   \n",
      "131944      131944  R552  2011-05-30  22:39:32    22  REGULAR   \n",
      "131945      131945  R552  2011-05-30  22:58:54    22  REGULAR   \n",
      "131946      131946  R552  2011-05-30  23:21:29    23  REGULAR   \n",
      "131947      131947  R552  2011-05-30  23:23:30    23  REGULAR   \n",
      "131948      131948  R552  2011-05-30  23:28:44    23  REGULAR   \n",
      "131949      131949  R552  2011-05-30  23:35:45    23  REGULAR   \n",
      "131950      131950  R552  2011-05-30  23:50:47    23  REGULAR   \n",
      "\n",
      "        ENTRIESn_hourly  EXITSn_hourly  maxpressurei  maxdewpti   ...     \\\n",
      "0                   0.0            0.0         30.31       42.0   ...      \n",
      "1                 217.0          553.0         30.31       42.0   ...      \n",
      "2                 890.0         1262.0         30.31       42.0   ...      \n",
      "3                2451.0         3708.0         30.31       42.0   ...      \n",
      "4                4400.0         2501.0         30.31       42.0   ...      \n",
      "5                3372.0         2122.0         30.31       42.0   ...      \n",
      "6                   0.0            0.0         30.31       42.0   ...      \n",
      "7                  42.0           66.0         30.31       42.0   ...      \n",
      "8                  50.0          125.0         30.31       42.0   ...      \n",
      "9                 316.0          716.0         30.31       42.0   ...      \n",
      "10                633.0          968.0         30.31       42.0   ...      \n",
      "11                639.0          566.0         30.31       42.0   ...      \n",
      "12                  0.0            0.0         30.31       42.0   ...      \n",
      "13                  0.0            0.0         30.31       42.0   ...      \n",
      "14                  0.0            0.0         30.31       42.0   ...      \n",
      "15                  0.0            0.0         30.31       42.0   ...      \n",
      "16                  0.0            0.0         30.31       42.0   ...      \n",
      "17                  0.0            0.0         30.31       42.0   ...      \n",
      "18                  0.0            0.0         30.31       42.0   ...      \n",
      "19                  0.0            0.0         30.31       42.0   ...      \n",
      "20                  0.0            0.0         30.31       42.0   ...      \n",
      "21                  0.0            0.0         30.31       42.0   ...      \n",
      "22                  0.0            0.0         30.31       42.0   ...      \n",
      "23                  0.0            0.0         30.31       42.0   ...      \n",
      "24                  0.0            2.0         30.31       42.0   ...      \n",
      "25                  0.0            2.0         30.31       42.0   ...      \n",
      "26                  1.0            7.0         30.31       42.0   ...      \n",
      "27                  0.0            0.0         30.31       42.0   ...      \n",
      "28                  0.0            0.0         30.31       42.0   ...      \n",
      "29                  0.0            1.0         30.31       42.0   ...      \n",
      "...                 ...            ...           ...        ...   ...      \n",
      "131921              6.0            2.0         30.13       70.0   ...      \n",
      "131922            192.0           55.0         30.13       70.0   ...      \n",
      "131923            350.0           90.0         30.13       70.0   ...      \n",
      "131924             25.0            3.0         30.13       70.0   ...      \n",
      "131925              0.0            0.0         30.13       70.0   ...      \n",
      "131926             30.0            2.0         30.13       70.0   ...      \n",
      "131927            208.0          998.0         30.13       70.0   ...      \n",
      "131928            107.0          199.0         30.13       70.0   ...      \n",
      "131929            139.0           38.0         30.13       70.0   ...      \n",
      "131930            331.0          399.0         30.13       70.0   ...      \n",
      "131931            275.0           71.0         30.13       70.0   ...      \n",
      "131932            133.0           39.0         30.13       70.0   ...      \n",
      "131933              7.0          332.0         30.13       70.0   ...      \n",
      "131934            128.0          447.0         30.13       70.0   ...      \n",
      "131935            142.0          677.0         30.13       70.0   ...      \n",
      "131936              0.0            0.0         30.13       70.0   ...      \n",
      "131937            248.0          257.0         30.13       70.0   ...      \n",
      "131938             62.0           32.0         30.13       70.0   ...      \n",
      "131939            116.0          726.0         30.13       70.0   ...      \n",
      "131940             68.0          115.0         30.13       70.0   ...      \n",
      "131941              7.0            4.0         30.13       70.0   ...      \n",
      "131942             80.0           63.0         30.13       70.0   ...      \n",
      "131943            195.0          207.0         30.13       70.0   ...      \n",
      "131944             18.0            4.0         30.13       70.0   ...      \n",
      "131945              0.0            0.0         30.13       70.0   ...      \n",
      "131946             19.0           14.0         30.13       70.0   ...      \n",
      "131947            158.0         1022.0         30.13       70.0   ...      \n",
      "131948             54.0          275.0         30.13       70.0   ...      \n",
      "131949             59.0           46.0         30.13       70.0   ...      \n",
      "131950            123.0          108.0         30.13       70.0   ...      \n",
      "\n",
      "        meandewpti  meanpressurei  fog  rain  meanwindspdi  mintempi  \\\n",
      "0             39.0          30.27  0.0   0.0           5.0      50.0   \n",
      "1             39.0          30.27  0.0   0.0           5.0      50.0   \n",
      "2             39.0          30.27  0.0   0.0           5.0      50.0   \n",
      "3             39.0          30.27  0.0   0.0           5.0      50.0   \n",
      "4             39.0          30.27  0.0   0.0           5.0      50.0   \n",
      "5             39.0          30.27  0.0   0.0           5.0      50.0   \n",
      "6             39.0          30.27  0.0   0.0           5.0      50.0   \n",
      "7             39.0          30.27  0.0   0.0           5.0      50.0   \n",
      "8             39.0          30.27  0.0   0.0           5.0      50.0   \n",
      "9             39.0          30.27  0.0   0.0           5.0      50.0   \n",
      "10            39.0          30.27  0.0   0.0           5.0      50.0   \n",
      "11            39.0          30.27  0.0   0.0           5.0      50.0   \n",
      "12            39.0          30.27  0.0   0.0           5.0      50.0   \n",
      "13            39.0          30.27  0.0   0.0           5.0      50.0   \n",
      "14            39.0          30.27  0.0   0.0           5.0      50.0   \n",
      "15            39.0          30.27  0.0   0.0           5.0      50.0   \n",
      "16            39.0          30.27  0.0   0.0           5.0      50.0   \n",
      "17            39.0          30.27  0.0   0.0           5.0      50.0   \n",
      "18            39.0          30.27  0.0   0.0           5.0      50.0   \n",
      "19            39.0          30.27  0.0   0.0           5.0      50.0   \n",
      "20            39.0          30.27  0.0   0.0           5.0      50.0   \n",
      "21            39.0          30.27  0.0   0.0           5.0      50.0   \n",
      "22            39.0          30.27  0.0   0.0           5.0      50.0   \n",
      "23            39.0          30.27  0.0   0.0           5.0      50.0   \n",
      "24            39.0          30.27  0.0   0.0           5.0      50.0   \n",
      "25            39.0          30.27  0.0   0.0           5.0      50.0   \n",
      "26            39.0          30.27  0.0   0.0           5.0      50.0   \n",
      "27            39.0          30.27  0.0   0.0           5.0      50.0   \n",
      "28            39.0          30.27  0.0   0.0           5.0      50.0   \n",
      "29            39.0          30.27  0.0   0.0           5.0      50.0   \n",
      "...            ...            ...  ...   ...           ...       ...   \n",
      "131921        68.0          30.08  0.0   1.0           5.0      70.0   \n",
      "131922        68.0          30.08  0.0   1.0           5.0      70.0   \n",
      "131923        68.0          30.08  0.0   1.0           5.0      70.0   \n",
      "131924        68.0          30.08  0.0   1.0           5.0      70.0   \n",
      "131925        68.0          30.08  0.0   1.0           5.0      70.0   \n",
      "131926        68.0          30.08  0.0   1.0           5.0      70.0   \n",
      "131927        68.0          30.08  0.0   1.0           5.0      70.0   \n",
      "131928        68.0          30.08  0.0   1.0           5.0      70.0   \n",
      "131929        68.0          30.08  0.0   1.0           5.0      70.0   \n",
      "131930        68.0          30.08  0.0   1.0           5.0      70.0   \n",
      "131931        68.0          30.08  0.0   1.0           5.0      70.0   \n",
      "131932        68.0          30.08  0.0   1.0           5.0      70.0   \n",
      "131933        68.0          30.08  0.0   1.0           5.0      70.0   \n",
      "131934        68.0          30.08  0.0   1.0           5.0      70.0   \n",
      "131935        68.0          30.08  0.0   1.0           5.0      70.0   \n",
      "131936        68.0          30.08  0.0   1.0           5.0      70.0   \n",
      "131937        68.0          30.08  0.0   1.0           5.0      70.0   \n",
      "131938        68.0          30.08  0.0   1.0           5.0      70.0   \n",
      "131939        68.0          30.08  0.0   1.0           5.0      70.0   \n",
      "131940        68.0          30.08  0.0   1.0           5.0      70.0   \n",
      "131941        68.0          30.08  0.0   1.0           5.0      70.0   \n",
      "131942        68.0          30.08  0.0   1.0           5.0      70.0   \n",
      "131943        68.0          30.08  0.0   1.0           5.0      70.0   \n",
      "131944        68.0          30.08  0.0   1.0           5.0      70.0   \n",
      "131945        68.0          30.08  0.0   1.0           5.0      70.0   \n",
      "131946        68.0          30.08  0.0   1.0           5.0      70.0   \n",
      "131947        68.0          30.08  0.0   1.0           5.0      70.0   \n",
      "131948        68.0          30.08  0.0   1.0           5.0      70.0   \n",
      "131949        68.0          30.08  0.0   1.0           5.0      70.0   \n",
      "131950        68.0          30.08  0.0   1.0           5.0      70.0   \n",
      "\n",
      "        meantempi  maxtempi  precipi  thunder  \n",
      "0            60.0      69.0     0.00      0.0  \n",
      "1            60.0      69.0     0.00      0.0  \n",
      "2            60.0      69.0     0.00      0.0  \n",
      "3            60.0      69.0     0.00      0.0  \n",
      "4            60.0      69.0     0.00      0.0  \n",
      "5            60.0      69.0     0.00      0.0  \n",
      "6            60.0      69.0     0.00      0.0  \n",
      "7            60.0      69.0     0.00      0.0  \n",
      "8            60.0      69.0     0.00      0.0  \n",
      "9            60.0      69.0     0.00      0.0  \n",
      "10           60.0      69.0     0.00      0.0  \n",
      "11           60.0      69.0     0.00      0.0  \n",
      "12           60.0      69.0     0.00      0.0  \n",
      "13           60.0      69.0     0.00      0.0  \n",
      "14           60.0      69.0     0.00      0.0  \n",
      "15           60.0      69.0     0.00      0.0  \n",
      "16           60.0      69.0     0.00      0.0  \n",
      "17           60.0      69.0     0.00      0.0  \n",
      "18           60.0      69.0     0.00      0.0  \n",
      "19           60.0      69.0     0.00      0.0  \n",
      "20           60.0      69.0     0.00      0.0  \n",
      "21           60.0      69.0     0.00      0.0  \n",
      "22           60.0      69.0     0.00      0.0  \n",
      "23           60.0      69.0     0.00      0.0  \n",
      "24           60.0      69.0     0.00      0.0  \n",
      "25           60.0      69.0     0.00      0.0  \n",
      "26           60.0      69.0     0.00      0.0  \n",
      "27           60.0      69.0     0.00      0.0  \n",
      "28           60.0      69.0     0.00      0.0  \n",
      "29           60.0      69.0     0.00      0.0  \n",
      "...           ...       ...      ...      ...  \n",
      "131921       78.0      86.0     0.29      0.0  \n",
      "131922       78.0      86.0     0.29      0.0  \n",
      "131923       78.0      86.0     0.29      0.0  \n",
      "131924       78.0      86.0     0.29      0.0  \n",
      "131925       78.0      86.0     0.29      0.0  \n",
      "131926       78.0      86.0     0.29      0.0  \n",
      "131927       78.0      86.0     0.29      0.0  \n",
      "131928       78.0      86.0     0.29      0.0  \n",
      "131929       78.0      86.0     0.29      0.0  \n",
      "131930       78.0      86.0     0.29      0.0  \n",
      "131931       78.0      86.0     0.29      0.0  \n",
      "131932       78.0      86.0     0.29      0.0  \n",
      "131933       78.0      86.0     0.29      0.0  \n",
      "131934       78.0      86.0     0.29      0.0  \n",
      "131935       78.0      86.0     0.29      0.0  \n",
      "131936       78.0      86.0     0.29      0.0  \n",
      "131937       78.0      86.0     0.29      0.0  \n",
      "131938       78.0      86.0     0.29      0.0  \n",
      "131939       78.0      86.0     0.29      0.0  \n",
      "131940       78.0      86.0     0.29      0.0  \n",
      "131941       78.0      86.0     0.29      0.0  \n",
      "131942       78.0      86.0     0.29      0.0  \n",
      "131943       78.0      86.0     0.29      0.0  \n",
      "131944       78.0      86.0     0.29      0.0  \n",
      "131945       78.0      86.0     0.29      0.0  \n",
      "131946       78.0      86.0     0.29      0.0  \n",
      "131947       78.0      86.0     0.29      0.0  \n",
      "131948       78.0      86.0     0.29      0.0  \n",
      "131949       78.0      86.0     0.29      0.0  \n",
      "131950       78.0      86.0     0.29      0.0  \n",
      "\n",
      "[131951 rows x 22 columns]\n"
     ]
    }
   ],
   "source": [
    "import pandas as pd\n",
    "\n",
    "turnstile = pd.read_csv(\"turnstile_data_master_with_weather.csv\", sep=\",\") # Load the file\n",
    "df_turnstile_weather = pd.DataFrame(turnstile) # Create a DataFrame\n",
    "\n",
    "print(df_turnstile_weather)\n"
   ]
  },
  {
   "cell_type": "markdown",
   "metadata": {},
   "source": [
    "### *Exercicio 2.2*\n",
    "\n",
    "Agora crie uma funcao que calcule a quantidade de dias chuvosos, para isso retorne a contagem do numero de dias onde a coluna *\"rain\"* eh igual a 1.\n",
    "\n",
    "Dica: Voce tambem pode achar que a interpretacao de numeros como numeros inteiros ou float pode nao funcionar inicialmente. Para contornar esta questao, pode ser util converter esses numeros para numeros inteiros. Isso pode ser feito escrevendo cast (coluna como inteiro).\n",
    "\n",
    "Entao, por exemplo, se queriamos lancar a coluna maxtempi como um numero inteiro, nos devemos escrever algo como cast (maxtempi as integer) = 76, em oposicao a simplesmente onde maxtempi = 76."
   ]
  },
  {
   "cell_type": "code",
   "execution_count": 60,
   "metadata": {
    "collapsed": true
   },
   "outputs": [],
   "source": [
    "import pandas as pd\n",
    "\n",
    "def num_rainy_days(df):\n",
    "    \n",
    "    df['DATEn'] = pd.to_datetime(df['DATEn']) # Convet DATEn values to date format \n",
    "    df_rain = df.loc[(df.rain == 1.0), ['DATEn', 'rain']] # Create a subset where days equal rainy days\n",
    "    df_rain_days = df_rain.groupby(['DATEn'])\n",
    "\n",
    "    return len(df_rain_days) # Returns len of subset of df, where rain is equals 1.0, grouped by DATEn"
   ]
  },
  {
   "cell_type": "code",
   "execution_count": 61,
   "metadata": {},
   "outputs": [
    {
     "name": "stdout",
     "output_type": "stream",
     "text": [
      "10\n"
     ]
    }
   ],
   "source": [
    "print(num_rainy_days(df_turnstile_weather))"
   ]
  },
  {
   "cell_type": "markdown",
   "metadata": {},
   "source": [
    "### *Exercicio 2.3*\n",
    "\n",
    "Calcule se estava nebuloso ou nao (0 ou 1) e a temperatura maxima para fog (isto eh, a temperatura maxima \n",
    "para dias nebulosos)."
   ]
  },
  {
   "cell_type": "code",
   "execution_count": 62,
   "metadata": {
    "collapsed": true
   },
   "outputs": [],
   "source": [
    "import pandas\n",
    "\n",
    "def max_temp_aggregate_by_fog(df):\n",
    "    \n",
    "    df_agg = df[['fog','maxtempi']].groupby(['fog']).max() # in the subset of df, group by fog by max value\n",
    "    return df_agg"
   ]
  },
  {
   "cell_type": "code",
   "execution_count": 63,
   "metadata": {},
   "outputs": [
    {
     "name": "stdout",
     "output_type": "stream",
     "text": [
      "     maxtempi\n",
      "fog          \n",
      "0.0      86.0\n",
      "1.0      81.0\n"
     ]
    }
   ],
   "source": [
    "print(max_temp_aggregate_by_fog(df_turnstile_weather))"
   ]
  },
  {
   "cell_type": "markdown",
   "metadata": {},
   "source": [
    "### *Exercicio 2.4\n",
    "\n",
    "Calcule agora a media de 'meantempi' nos dias que sao sabado ou domingo (finais de semana):"
   ]
  },
  {
   "cell_type": "code",
   "execution_count": 64,
   "metadata": {
    "collapsed": true
   },
   "outputs": [],
   "source": [
    "import pandas as pd\n",
    "import datetime as dt\n",
    "\n",
    "def avg_weekend_temperature(filename):\n",
    "\n",
    "    df = pd.DataFrame(pd.read_csv(filename, sep=\",\")) # Load the file\n",
    "    df['DATEn'] = pd.to_datetime(df['DATEn']) # Convet DATEn values to date format   \n",
    "    df['day_of_week'] = df['DATEn'].dt.weekday_name # Create a new column with day name\n",
    "    \n",
    "    df_weekend = df.loc[(df.day_of_week == 'Sunday') | (df.day_of_week == 'Saturday'), ['meantempi', 'day_of_week']] # Create a subset where days equal Sunday and Saturday\n",
    "\n",
    "    mean_temp_weekends = df_weekend.groupby(['day_of_week']).mean() #group the subset by day_of_week (Saturday and Sunday) and calculate the mean of meantempi\n",
    "    \n",
    "    return mean_temp_weekends"
   ]
  },
  {
   "cell_type": "code",
   "execution_count": 65,
   "metadata": {},
   "outputs": [
    {
     "name": "stdout",
     "output_type": "stream",
     "text": [
      "             meantempi\n",
      "day_of_week           \n",
      "Saturday     67.020761\n",
      "Sunday       63.573329\n"
     ]
    }
   ],
   "source": [
    "print(avg_weekend_temperature(\"turnstile_data_master_with_weather.csv\"))\n"
   ]
  },
  {
   "cell_type": "markdown",
   "metadata": {},
   "source": [
    "### *Exercicio 2.5\n",
    "\n",
    "Calcule a media da temperatura minima 'mintempi' nos dias chuvosos onde da temperatura minima foi maior que do 55 graus:"
   ]
  },
  {
   "cell_type": "code",
   "execution_count": 66,
   "metadata": {
    "collapsed": true
   },
   "outputs": [],
   "source": [
    "def avg_min_temperature(filename):\n",
    "\n",
    "    df = pd.DataFrame(pd.read_csv(filename, sep=\",\")) # Load the file\n",
    "    df_rainy_above_55 = df.loc[(df.rain == 1.0) & (df.mintempi > 55.0), ['mintempi', 'rain']] # Create a subset where rain is equals 1.0 and mintempi > 55.0\n",
    "    avg_min_temp_rainy = df_rainy_above_55.groupby(['rain']).mean() #group the subset by rain and calculate the mean of mintempi\n",
    "    \n",
    "    return avg_min_temp_rainy"
   ]
  },
  {
   "cell_type": "code",
   "execution_count": 67,
   "metadata": {},
   "outputs": [
    {
     "name": "stdout",
     "output_type": "stream",
     "text": [
      "      mintempi\n",
      "rain          \n",
      "1.0   61.23886\n"
     ]
    }
   ],
   "source": [
    "print(avg_min_temperature(\"turnstile_data_master_with_weather.csv\"))"
   ]
  },
  {
   "cell_type": "markdown",
   "metadata": {},
   "source": [
    "### *Exercicio 2.6\n",
    "\n",
    "Antes de realizar qualquer analise, pode ser util olhar para os dados que esperamos analisar. Mais especificamente, vamos examinR as entradas por hora em nossos dados do metro de Nova York para determinar a distribuicao dos dados. Estes dados sao armazenados na coluna ['ENTRIESn_hourly'].\n",
    "- Trace dois histogramas nos mesmos eixos para mostrar as entradas quando esta chovendo vs quando nao esta chovendo. \n",
    "\n",
    "Abaixo esta um exemplo sobre como tracar histogramas com pandas e matplotlib:\n",
    "\n",
    "```python\n",
    "Turnstile_weather ['column_to_graph']. Hist()\n",
    "```   \n",
    "    "
   ]
  },
  {
   "cell_type": "code",
   "execution_count": 68,
   "metadata": {
    "collapsed": true
   },
   "outputs": [],
   "source": [
    "import numpy as np\n",
    "import pandas\n",
    "import matplotlib.pyplot as plt\n",
    "\n",
    "def entries_histogram(turnstile_weather):\n",
    "    \n",
    "    plt.figure() #create a plot object which we will popluate with histograms\n",
    "    \n",
    "    turnstile_weather['ENTRIESn_hourly'][turnstile_weather.rain == 1].hist(bins = 25, range=(0,6000)) # raining, includes bins and range args\n",
    "    turnstile_weather['ENTRIESn_hourly'][turnstile_weather.rain == 0].hist(bins = 25,alpha = .4,range = (0,6000)) # not raining includes bins, range, and alpha transparency args\n",
    "    plt.xlabel(\"ENTRIESn_hourly\")\n",
    "    plt.ylabel('Frequency')\n",
    "    plt.legend(('Rain','No Rain'))\n",
    "    plt.title('Ridership Distribution for Rain and No Rain Conditions')\n",
    "    \n",
    "    return plt\n"
   ]
  },
  {
   "cell_type": "code",
   "execution_count": 69,
   "metadata": {},
   "outputs": [
    {
     "data": {
      "image/png": "[encoded data removed]",
      "text/plain": [
       "<matplotlib.figure.Figure at 0x1097bcc88>"
      ]
     },
     "metadata": {},
     "output_type": "display_data"
    }
   ],
   "source": [
    "entries_histogram(df_turnstile_weather).show()"
   ]
  },
  {
   "cell_type": "markdown",
   "metadata": {},
   "source": [
    "### *Exercicio 2.7\n",
    "\n",
    "Os dados que acabou de plotar que tipo de ditribuicao? Existe diferenca na distribuicao entre dias chuvosos e nao chuvosos?"
   ]
  },
  {
   "cell_type": "markdown",
   "metadata": {},
   "source": [
    "** Resposta **: A distribuicao obtida no exercicio 2.6 eh uma distribuicao assimetrica do tipo **Distribuicao a Direita**. As distribuicoes sao iguais, mudando apenas a frequencia das entradas ENTRIESn_hourly."
   ]
  },
  {
   "cell_type": "markdown",
   "metadata": {},
   "source": [
    "### *Exercicio 2.8\n",
    "\n",
    "Construa uma funcao que que retorne:\n",
    "\n",
    "1. A media das entradas com chuva\n",
    "2. A media das entradas sem chuva\n",
    "\n",
    "\n"
   ]
  },
  {
   "cell_type": "code",
   "execution_count": 70,
   "metadata": {
    "collapsed": true
   },
   "outputs": [],
   "source": [
    "import numpy as np\n",
    "import pandas\n",
    "\n",
    "def means(turnstile_weather):\n",
    "    \n",
    "    #print(turnstile_weather['ENTRIESn_hourly'][turnstile_weather.rain == 1])\n",
    "    #print(turnstile_weather['ENTRIESn_hourly'][turnstile_weather.rain == 0])\n",
    "    \n",
    "    #print(turnstile_weather['ENTRIESn_hourly'][turnstile_weather.rain == 1].describe())\n",
    "    #print(turnstile_weather['ENTRIESn_hourly'][turnstile_weather.rain == 0].describe())\n",
    "    \n",
    "    with_rain_mean = turnstile_weather['ENTRIESn_hourly'][turnstile_weather.rain == 1].mean()\n",
    "    without_rain_mean = turnstile_weather['ENTRIESn_hourly'][turnstile_weather.rain == 0].mean()\n",
    "    p = None\n",
    "    \n",
    "    return with_rain_mean, without_rain_mean, p # leave this line for the grader"
   ]
  },
  {
   "cell_type": "code",
   "execution_count": 71,
   "metadata": {},
   "outputs": [
    {
     "name": "stdout",
     "output_type": "stream",
     "text": [
      "[1105.4463767458733, 1090.278780151855, None]\n"
     ]
    }
   ],
   "source": [
    "[with_rain_mean, without_rain_mean, p] = means(df_turnstile_weather)\n",
    "print([with_rain_mean, without_rain_mean, p])"
   ]
  },
  {
   "cell_type": "markdown",
   "metadata": {},
   "source": [
    "Responda as perguntas abaixo de acordo com a saida das suas funcoes:\n",
    "\n",
    "1. Qual a media das entradas com chuva?\n",
    "2. Qual a media das entradas sem chuva?\n"
   ]
  },
  {
   "cell_type": "markdown",
   "metadata": {},
   "source": [
    "** Resposta **: 1. A media das entradas com chuva eh de 1105. 2. A media das entradas sem chuva eh de 1090."
   ]
  },
  {
   "cell_type": "markdown",
   "metadata": {},
   "source": [
    "## Exercicio 3 - Map Reduce\n",
    "\n",
    "### *Exercicio 3.1*\n",
    "\n",
    "A entrada para esse exercicio e o mesmo arquivo da secao anterior (Exercicio 2). Voce pode baixar o arquivo neste link:\n",
    "\n",
    " https://s3.amazonaws.com/content.udacity-data.com/courses/ud359/turnstile_data_master_with_weather.csv\n",
    "\n",
    "Varmos criar um mapeador agora. Para cada linha de entrada, a saida do mapeador deve IMPRIMIR (nao retornar) a UNIT como uma chave e o numero de ENTRIESn_hourly como o valor. Separe a chave e o valor por uma guia. Por exemplo: 'R002 \\ t105105.0'\n",
    "\n",
    "Exporte seu mapeador em um arquivo chamado mapper_result.txt e envie esse arquivo juntamente com a sua submissao. O codigo para exportar seu mapeador ja esta escrito no codigo abaixo.\n",
    "\n",
    "\n"
   ]
  },
  {
   "cell_type": "code",
   "execution_count": null,
   "metadata": {
    "collapsed": true
   },
   "outputs": [],
   "source": [
    "import sys\n",
    "\n",
    "def mapper():\n",
    "    \n",
    "    header = False\n",
    "\n",
    "    for line in sys.stdin:\n",
    "        # your code here\n",
    "        if not header:\n",
    "            header = True\n",
    "            continue\n",
    "        data = line.split(',')\n",
    "        if len(data) == 22:\n",
    "            unit = data[1]\n",
    "            entries_hourly = data[6]\n",
    "            print '{0}\\t{1}'.format(unit, entries_hourly)\n",
    "\n",
    "mapper()\n",
    "\n",
    "sys.stdin = open('turnstile_data_master_with_weather.csv')\n",
    "sys.stdout = open('mapper_result.txt', 'w')"
   ]
  },
  {
   "cell_type": "markdown",
   "metadata": {},
   "source": [
    "### *Exercicio 3.2*\n",
    "\n",
    "Agora crie o redutor. Dado o resultado do mapeador do exercicio anterior, o redutor deve imprimir (nao retornar) uma linha por UNIT, juntamente com o numero total de ENTRIESn_hourly. Ao longo de maio (que eh a duracao dos nossos dados), separados por uma guia. Um exemplo de linha de saida do redutor pode ser assim: 'R001 \\ t500625.0'\n",
    "\n",
    "Voce pode assumir que a entrada para o redutor esta ordenada de tal forma que todas as linhas correspondentes a uma unidade particular sao agrupados. No entanto a saida do redutor tera repeticao pois existem lojas que aparecem em locais diferentes dos arquivos.\n",
    "\n",
    "Exporte seu redutor em um arquivo chamado reducer_result.txt e envie esse arquivo juntamente com a sua submissao."
   ]
  },
  {
   "cell_type": "code",
   "execution_count": null,
   "metadata": {
    "collapsed": true
   },
   "outputs": [],
   "source": [
    "import sys\n",
    "\n",
    "def reducer():\n",
    "\n",
    "    entriesTotal = 0\n",
    "    oldUnit = None\n",
    "\n",
    "    for line in sys.stdin:\n",
    "        data_mapped = line.strip().split(\"\\t\")\n",
    "            if len(data_mapped) != 2: # Something has gone wrong. Skip this line.\n",
    "            continue\n",
    "            \n",
    "        thisUnit, thisEntries = data_mapped\n",
    "\n",
    "        if oldUnit and (oldUnit != thisUnit):\n",
    "            print oldUnit, \"\\t\", entriesTotal\n",
    "            oldUnit = thisUnit\n",
    "            entriesTotal = 0\n",
    "            \n",
    "        oldUnit = thisUnit\n",
    "            entriesTotal += float(thisEntries)\n",
    "\n",
    "    if oldUnit != None:\n",
    "        print oldUnit, \"\\t\", entriesTotal\n",
    "\n",
    "reducer()"
   ]
  }
 ],
 "metadata": {
  "celltoolbar": "Edit Metadata",
  "kernelspec": {
   "display_name": "Python 3",
   "language": "python",
   "name": "python3"
  },
  "language_info": {
   "codemirror_mode": {
    "name": "ipython",
    "version": 3
   },
   "file_extension": ".py",
   "mimetype": "text/x-python",
   "name": "python",
   "nbconvert_exporter": "python",
   "pygments_lexer": "ipython3",
   "version": "3.5.0"
  }
 },
 "nbformat": 4,
 "nbformat_minor": 2
}
